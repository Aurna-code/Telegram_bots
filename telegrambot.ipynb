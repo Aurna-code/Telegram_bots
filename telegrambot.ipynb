{
 "cells": [
  {
   "cell_type": "markdown",
   "id": "358c8380-8540-41f3-9375-d95bf8491b5c",
   "metadata": {},
   "source": [
    "### 텔레그램 봇"
   ]
  },
  {
   "cell_type": "code",
   "execution_count": 1,
   "id": "2324cd49-fd34-4f2e-a01c-e0641c3ca108",
   "metadata": {},
   "outputs": [
    {
     "name": "stdout",
     "output_type": "stream",
     "text": [
      "Defaulting to user installation because normal site-packages is not writeable\n",
      "Collecting python-telegram-bot\n",
      "  Downloading python_telegram_bot-13.8.1-py3-none-any.whl (495 kB)\n",
      "\u001b[K     |████████████████████████████████| 495 kB 1.6 MB/s eta 0:00:01\n",
      "\u001b[?25hRequirement already satisfied: pytz>=2018.6 in /opt/miniconda3/lib/python3.7/site-packages (from python-telegram-bot) (2021.1)\n",
      "Requirement already satisfied: certifi in /opt/miniconda3/lib/python3.7/site-packages (from python-telegram-bot) (2021.10.8)\n",
      "Collecting cachetools==4.2.2\n",
      "  Downloading cachetools-4.2.2-py3-none-any.whl (11 kB)\n",
      "Requirement already satisfied: tornado>=6.1 in /opt/miniconda3/lib/python3.7/site-packages (from python-telegram-bot) (6.1)\n",
      "Collecting APScheduler==3.6.3\n",
      "  Downloading APScheduler-3.6.3-py2.py3-none-any.whl (58 kB)\n",
      "\u001b[K     |████████████████████████████████| 58 kB 12.9 MB/s eta 0:00:01\n",
      "\u001b[?25hRequirement already satisfied: six>=1.4.0 in /opt/miniconda3/lib/python3.7/site-packages (from APScheduler==3.6.3->python-telegram-bot) (1.16.0)\n",
      "Collecting tzlocal>=1.2\n",
      "  Downloading tzlocal-4.1-py3-none-any.whl (19 kB)\n",
      "Requirement already satisfied: setuptools>=0.7 in /opt/miniconda3/lib/python3.7/site-packages (from APScheduler==3.6.3->python-telegram-bot) (58.0.4)\n",
      "Collecting backports.zoneinfo\n",
      "  Downloading backports.zoneinfo-0.2.1-cp37-cp37m-manylinux1_x86_64.whl (70 kB)\n",
      "\u001b[K     |████████████████████████████████| 70 kB 14.4 MB/s eta 0:00:01\n",
      "\u001b[?25hCollecting pytz-deprecation-shim\n",
      "  Downloading pytz_deprecation_shim-0.1.0.post0-py2.py3-none-any.whl (15 kB)\n",
      "Collecting tzdata\n",
      "  Downloading tzdata-2021.5-py2.py3-none-any.whl (339 kB)\n",
      "\u001b[K     |████████████████████████████████| 339 kB 30.2 MB/s eta 0:00:01\n",
      "\u001b[?25hInstalling collected packages: tzdata, backports.zoneinfo, pytz-deprecation-shim, tzlocal, cachetools, APScheduler, python-telegram-bot\n",
      "Successfully installed APScheduler-3.6.3 backports.zoneinfo-0.2.1 cachetools-4.2.2 python-telegram-bot-13.8.1 pytz-deprecation-shim-0.1.0.post0 tzdata-2021.5 tzlocal-4.1\n",
      "Note: you may need to restart the kernel to use updated packages.\n"
     ]
    }
   ],
   "source": [
    "pip install python-telegram-bot"
   ]
  },
  {
   "cell_type": "markdown",
   "id": "dd2631e7-c963-4e62-a234-464006aecddf",
   "metadata": {},
   "source": [
    "### 텔레그램 인증키 등록"
   ]
  },
  {
   "cell_type": "code",
   "execution_count": 2,
   "id": "5adc449c-7fe8-4595-b886-0cffb25a98c1",
   "metadata": {},
   "outputs": [],
   "source": [
    "import telegram"
   ]
  },
  {
   "cell_type": "code",
   "execution_count": 3,
   "id": "21d3d0cd-0ac6-4712-9856-8be27866acdc",
   "metadata": {},
   "outputs": [],
   "source": [
    "token = '2129391995:AAHglk257KkLF1LPgUhGr-Z1Hjm_-YU92FY'"
   ]
  },
  {
   "cell_type": "markdown",
   "id": "1bfeec7d-753b-4ece-a4b9-5bc268ade92d",
   "metadata": {},
   "source": [
    "### 텔레그램 봇 객체 생성"
   ]
  },
  {
   "cell_type": "code",
   "execution_count": 4,
   "id": "a22a9373-5773-486a-a895-bf71e28db218",
   "metadata": {},
   "outputs": [],
   "source": [
    "bot = telegram.Bot(token=token)"
   ]
  },
  {
   "cell_type": "markdown",
   "id": "e0039a41-f432-4385-892b-60ef84cc5206",
   "metadata": {},
   "source": [
    "### 특정 대화상대에게 메세지 보내기 테스트\n",
    "+ sendMessage(대상, 메시지)"
   ]
  },
  {
   "cell_type": "code",
   "execution_count": 6,
   "id": "4fd3d7a4-c552-493c-be9c-85c8321ef605",
   "metadata": {},
   "outputs": [
    {
     "data": {
      "text/plain": [
       "<telegram.message.Message at 0x55b4214de0a0>"
      ]
     },
     "execution_count": 6,
     "metadata": {},
     "output_type": "execute_result"
    }
   ],
   "source": [
    "bot.sendMessage(chat_id='2047049090', text='Hello, World!!')"
   ]
  },
  {
   "cell_type": "markdown",
   "id": "56a7a1ba-4555-45e4-a5ba-409f1a782516",
   "metadata": {},
   "source": [
    "### 로또 번호를 알려주는 텔레그램봇 만들기\n",
    "+ /lotto 라고 입력하면 6개 숫자 출력"
   ]
  },
  {
   "cell_type": "code",
   "execution_count": 10,
   "id": "0ed70a62-f90e-497a-becd-d537330aea24",
   "metadata": {},
   "outputs": [],
   "source": [
    "import random\n",
    "import time"
   ]
  },
  {
   "cell_type": "code",
   "execution_count": 9,
   "id": "591cb7e9-ee19-41e6-a51a-beb967270908",
   "metadata": {},
   "outputs": [],
   "source": [
    "from telegram import Update\n",
    "from telegram.ext import Updater, CallbackContext\n",
    "from telegram.ext import MessageHandler\n",
    "from telegram.ext import CommandHandler\n",
    "from telegram.ext import Filters"
   ]
  },
  {
   "cell_type": "code",
   "execution_count": null,
   "id": "19f81184-7ad3-4fec-b181-7c8e66c283c6",
   "metadata": {},
   "outputs": [],
   "source": []
  },
  {
   "cell_type": "markdown",
   "id": "015f352c-f850-4828-bc75-92ee832a01bb",
   "metadata": {},
   "source": [
    "### 텔레그램 챗봇 응답처리 콜백함수\n",
    "#### 콜백함수명 (context, update)"
   ]
  },
  {
   "cell_type": "markdown",
   "id": "d9735342-4f3f-468c-bfd0-80ad2ef398b1",
   "metadata": {},
   "source": [
    "#### 입력받은 메시지를 다시 메시지로 출력하는 함수"
   ]
  },
  {
   "cell_type": "code",
   "execution_count": 33,
   "id": "68a395bc-fd26-44f6-80d8-0158c28a5026",
   "metadata": {},
   "outputs": [],
   "source": [
    "def reply_message(update, context):\n",
    "    context.bot.send_message(text=update.message.text, chat_id=update.message.chat_id)"
   ]
  },
  {
   "cell_type": "markdown",
   "id": "4ddc61a0-4174-478f-a008-7dd0be37d55a",
   "metadata": {},
   "source": [
    "#### '/lotto' 라 입력했을 때 로또 출력하는 함수\n"
   ]
  },
  {
   "cell_type": "code",
   "execution_count": 34,
   "id": "f88595ee-87db-4ae2-9b72-2082be06d9bd",
   "metadata": {},
   "outputs": [],
   "source": [
    "def lotto_message(update, context):\n",
    "    lotto = random.sample(range(1, 45+1), 6)\n",
    "    update.message.reply_text(f'오늘의 행운 수 : {lotto} 😇')"
   ]
  },
  {
   "cell_type": "markdown",
   "id": "7151e2ae-0229-43e4-906d-f5b4179a3a8f",
   "metadata": {},
   "source": [
    "#### 텔레그램 챗봇 서버 실행"
   ]
  },
  {
   "cell_type": "code",
   "execution_count": 35,
   "id": "8773894f-f9b4-4e01-a14d-62b68cf139a5",
   "metadata": {},
   "outputs": [
    {
     "name": "stdout",
     "output_type": "stream",
     "text": [
      "텔레그램 RPA 서버 준비중...\n"
     ]
    }
   ],
   "source": [
    "print('텔레그램 RPA 서버 준비중...')\n",
    "updater = Updater(token)"
   ]
  },
  {
   "cell_type": "markdown",
   "id": "ab3e3d90-8e6d-4ee6-80be-db7aaa95449c",
   "metadata": {},
   "source": [
    "#### 위에서 정의한 콜백함수들을 핸들러 객체로 만든 후 챗봇 서버에 등록\n",
    "+ MessageHandler : 입력받은 텍스트를 그대로 처리할 때 사용할 콜백함수를 호출하는 핸들러 \n",
    "+ CommandHandler : 특정문자열 입력시 지정한 콜백함수 호출 \n",
    "+ CommandHandler(명령, 콜백함수)\n",
    "+ addHandler : 생성한 핸들러 객체를 챗봇서버에 등록함"
   ]
  },
  {
   "cell_type": "markdown",
   "id": "4fd2621d-9a98-44f1-87fe-3394c75e29ad",
   "metadata": {},
   "source": [
    "#### 핸들러 정의"
   ]
  },
  {
   "cell_type": "code",
   "execution_count": 36,
   "id": "7474e61f-423d-4c47-b89e-88bcd980c7e8",
   "metadata": {},
   "outputs": [],
   "source": [
    "reply_handler = MessageHandler(Filters.text, reply_message)"
   ]
  },
  {
   "cell_type": "markdown",
   "id": "6d891998-c01b-42a1-9dcd-98c132bfdeac",
   "metadata": {},
   "source": [
    "#### "
   ]
  },
  {
   "cell_type": "code",
   "execution_count": 37,
   "id": "9789d5cb-53ea-431d-8c23-a8cd6fa0c943",
   "metadata": {},
   "outputs": [],
   "source": [
    "lotto_handler = CommandHandler('lotto', lotto_message)"
   ]
  },
  {
   "cell_type": "markdown",
   "id": "96621d89-87f8-432d-8dd9-13a4d9175bba",
   "metadata": {},
   "source": [
    "#### 핸들러 등록"
   ]
  },
  {
   "cell_type": "code",
   "execution_count": 38,
   "id": "87c49315-d3fd-4ebb-9555-5403747ef8e1",
   "metadata": {},
   "outputs": [],
   "source": [
    "updater.dispatcher.add_handler(lotto_handler)\n",
    "updater.dispatcher.add_handler(reply_handler)"
   ]
  },
  {
   "cell_type": "markdown",
   "id": "70cfd01a-6de6-4171-a29b-d7408ba384fd",
   "metadata": {},
   "source": [
    "#### 챗봇서버 가동\n",
    "#### start_polling : polling 기능이 있는 챗봇서버 시작"
   ]
  },
  {
   "cell_type": "code",
   "execution_count": 39,
   "id": "8986c45d-f422-4bb4-a15e-c10d255db316",
   "metadata": {},
   "outputs": [
    {
     "name": "stdout",
     "output_type": "stream",
     "text": [
      "텔레그램 RPA 서버 실행중...\n"
     ]
    },
    {
     "name": "stderr",
     "output_type": "stream",
     "text": [
      "/opt/miniconda3/lib/python3.7/site-packages/ipykernel_launcher.py:2: TelegramDeprecationWarning: The argument `clean` of `start_polling` is deprecated. Please use `drop_pending_updates` instead.\n",
      "  \n"
     ]
    }
   ],
   "source": [
    "print('텔레그램 RPA 서버 실행중...')\n",
    "updater.start_polling(timeout=3, clean=True)\n",
    "updater.idle()"
   ]
  },
  {
   "cell_type": "markdown",
   "id": "87d23ee9-5f8c-43cd-85a5-d3ec8ba1c878",
   "metadata": {},
   "source": [
    "#### '/date'이라 입력했을 때 현재날짜(년-월-일) 출력하는 함수"
   ]
  },
  {
   "cell_type": "code",
   "execution_count": 61,
   "id": "80869570-f780-497b-88ee-6a147a1b0faf",
   "metadata": {},
   "outputs": [],
   "source": [
    "import datetime as dt\n",
    "now = dt.datetime.now()"
   ]
  },
  {
   "cell_type": "markdown",
   "id": "fd8cb930-b105-4d89-92b6-91aa17e67db1",
   "metadata": {},
   "source": [
    "#### 형식문자열 : %H(24시), %I(12시), %M(분)"
   ]
  },
  {
   "cell_type": "code",
   "execution_count": 64,
   "id": "9ad608c2-b48c-41a0-aac9-6bf8aabac656",
   "metadata": {},
   "outputs": [
    {
     "data": {
      "text/plain": [
       "'PM 03:11:37'"
      ]
     },
     "execution_count": 64,
     "metadata": {},
     "output_type": "execute_result"
    }
   ],
   "source": [
    "now.strftime('%H:%M:%S')\n",
    "now.strftime('%p %I:%M:%S')"
   ]
  },
  {
   "cell_type": "markdown",
   "id": "2ed287f4-da91-44b7-a5f3-93381e8b9b76",
   "metadata": {},
   "source": [
    "#### 형식문자열 : %Y(년), %m(월), %d(일), %A(요일명), %a(단축요일명)"
   ]
  },
  {
   "cell_type": "code",
   "execution_count": 65,
   "id": "16cdd313-6dd2-4345-acdf-2eb5cbb6932b",
   "metadata": {},
   "outputs": [
    {
     "data": {
      "text/plain": [
       "'2021-11-19'"
      ]
     },
     "execution_count": 65,
     "metadata": {},
     "output_type": "execute_result"
    }
   ],
   "source": [
    "now.strftime('%Y-%m-%d')"
   ]
  },
  {
   "cell_type": "markdown",
   "id": "faf18ffe-7909-4da3-92b2-ed2f7886b23c",
   "metadata": {},
   "source": [
    "#### 로케일 설정을 바꿔 %p, %A가 한국어로 출력되게 하기\n",
    "+ setlocale 함수를 이용\n",
    "+ 한국 로케일은 'ko_KR.UTF-8'으로 지정"
   ]
  },
  {
   "cell_type": "code",
   "execution_count": 67,
   "id": "177e128e-dc37-48a7-a53d-9405fdf22449",
   "metadata": {},
   "outputs": [
    {
     "data": {
      "text/plain": [
       "'ko_KR.UTF-8'"
      ]
     },
     "execution_count": 67,
     "metadata": {},
     "output_type": "execute_result"
    }
   ],
   "source": [
    "import locale\n",
    "locale.setlocale(locale.LC_ALL, 'ko_KR.UTF-8')"
   ]
  },
  {
   "cell_type": "code",
   "execution_count": 68,
   "id": "bc4ffcbd-92f3-4b84-93b4-4b38b02cd721",
   "metadata": {},
   "outputs": [
    {
     "data": {
      "text/plain": [
       "'오후 03:11:37'"
      ]
     },
     "execution_count": 68,
     "metadata": {},
     "output_type": "execute_result"
    }
   ],
   "source": [
    "now.strftime('%p %I:%M:%S')"
   ]
  },
  {
   "cell_type": "code",
   "execution_count": 69,
   "id": "da4ce517-1a9c-49ba-89cc-0d80f5cc6bc7",
   "metadata": {},
   "outputs": [
    {
     "data": {
      "text/plain": [
       "'2021-11-19 금요일'"
      ]
     },
     "execution_count": 69,
     "metadata": {},
     "output_type": "execute_result"
    }
   ],
   "source": [
    "now.strftime('%Y-%m-%d %A')"
   ]
  },
  {
   "cell_type": "code",
   "execution_count": 71,
   "id": "ddf046e8-5a2a-43c4-a615-04b31a336a9b",
   "metadata": {},
   "outputs": [],
   "source": [
    "def date_message(update, context):\n",
    "    now = dt.datetime.now()\n",
    "    date = now.strftime('%Y-%m-%d %A')\n",
    "    update.message.reply_text(f'현재시간 : {date}')"
   ]
  },
  {
   "cell_type": "code",
   "execution_count": 72,
   "id": "0b4da47b-a510-41d8-a43f-b1477af8195f",
   "metadata": {},
   "outputs": [
    {
     "name": "stdout",
     "output_type": "stream",
     "text": [
      "텔레그램 RPA 서버 준비중...\n"
     ]
    }
   ],
   "source": [
    "print('텔레그램 RPA 서버 준비중...')\n",
    "updater = Updater(token)"
   ]
  },
  {
   "cell_type": "code",
   "execution_count": 73,
   "id": "f12593d4-c413-41d5-8814-c33757ef2c42",
   "metadata": {},
   "outputs": [],
   "source": [
    "date_handler = CommandHandler('date', date_message)\n"
   ]
  },
  {
   "cell_type": "code",
   "execution_count": 74,
   "id": "423f85ba-c078-47b5-9294-a8b2963be783",
   "metadata": {},
   "outputs": [],
   "source": [
    "updater.dispatcher.add_handler(date_handler)"
   ]
  },
  {
   "cell_type": "code",
   "execution_count": 75,
   "id": "c44ee8d7-f5e4-4553-958e-4c958258f1b4",
   "metadata": {},
   "outputs": [
    {
     "name": "stdout",
     "output_type": "stream",
     "text": [
      "텔레그램 RPA 서버 실행중...\n"
     ]
    },
    {
     "name": "stderr",
     "output_type": "stream",
     "text": [
      "/opt/miniconda3/lib/python3.7/site-packages/ipykernel_launcher.py:2: TelegramDeprecationWarning: The argument `clean` of `start_polling` is deprecated. Please use `drop_pending_updates` instead.\n",
      "  \n"
     ]
    }
   ],
   "source": [
    "print('텔레그램 RPA 서버 실행중...')\n",
    "updater.start_polling(timeout=3, clean=True)\n",
    "updater.idle()"
   ]
  },
  {
   "cell_type": "markdown",
   "id": "0157fa97-4f00-4210-8ed7-0bd234549c2d",
   "metadata": {},
   "source": [
    "#### '/time'이라 입력했을 때 현지시간(시:분:초 오전/오후) 출력하는 함수"
   ]
  },
  {
   "cell_type": "code",
   "execution_count": 76,
   "id": "f6b755e7-a6ae-4c87-a978-a2b71df34029",
   "metadata": {},
   "outputs": [],
   "source": [
    "def time_message(update, context):\n",
    "    now = dt.datetime.now()\n",
    "    date2 = now.strftime(now.strftime('%p %I:%M:%S'))\n",
    "    update.message.reply_text(f'현재시간 : {date2}')"
   ]
  },
  {
   "cell_type": "code",
   "execution_count": 78,
   "id": "4091e664-38d7-403f-9d95-c10feb99a5e8",
   "metadata": {},
   "outputs": [],
   "source": [
    "time_handler = CommandHandler('time', time_message)"
   ]
  },
  {
   "cell_type": "code",
   "execution_count": 79,
   "id": "60272660-5aae-4c9e-be27-a30cafa8ffa2",
   "metadata": {},
   "outputs": [],
   "source": [
    "updater.dispatcher.add_handler(time_handler)"
   ]
  },
  {
   "cell_type": "code",
   "execution_count": 80,
   "id": "073d9612-9d8f-45c7-801a-85a64fffa561",
   "metadata": {},
   "outputs": [
    {
     "name": "stdout",
     "output_type": "stream",
     "text": [
      "텔레그램 RPA 서버 실행중...\n"
     ]
    },
    {
     "name": "stderr",
     "output_type": "stream",
     "text": [
      "/opt/miniconda3/lib/python3.7/site-packages/ipykernel_launcher.py:2: TelegramDeprecationWarning: The argument `clean` of `start_polling` is deprecated. Please use `drop_pending_updates` instead.\n",
      "  \n"
     ]
    }
   ],
   "source": [
    "print('텔레그램 RPA 서버 실행중...')\n",
    "updater.start_polling(timeout=3, clean=True)\n",
    "updater.idle()"
   ]
  },
  {
   "cell_type": "code",
   "execution_count": null,
   "id": "c942549e-7e54-4000-addf-a96c0d5e2213",
   "metadata": {},
   "outputs": [],
   "source": []
  },
  {
   "cell_type": "code",
   "execution_count": null,
   "id": "c8b1702d-2039-4890-9a71-b124afd52619",
   "metadata": {},
   "outputs": [],
   "source": []
  },
  {
   "cell_type": "code",
   "execution_count": null,
   "id": "561df315-98aa-4b9d-bf78-3810c925c841",
   "metadata": {},
   "outputs": [],
   "source": []
  },
  {
   "cell_type": "code",
   "execution_count": null,
   "id": "572a8fbf-b353-4fd7-9bed-bda6301f8abb",
   "metadata": {},
   "outputs": [],
   "source": []
  }
 ],
 "metadata": {
  "kernelspec": {
   "display_name": "Python 3 (ipykernel)",
   "language": "python",
   "name": "python3"
  },
  "language_info": {
   "codemirror_mode": {
    "name": "ipython",
    "version": 3
   },
   "file_extension": ".py",
   "mimetype": "text/x-python",
   "name": "python",
   "nbconvert_exporter": "python",
   "pygments_lexer": "ipython3",
   "version": "3.7.10"
  }
 },
 "nbformat": 4,
 "nbformat_minor": 5
}
