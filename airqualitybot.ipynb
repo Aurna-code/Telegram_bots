{
 "cells": [
  {
   "cell_type": "code",
   "execution_count": null,
   "id": "9d5cec67",
   "metadata": {},
   "outputs": [],
   "source": []
  },
  {
   "cell_type": "code",
   "execution_count": 2,
   "id": "0a01142d",
   "metadata": {},
   "outputs": [],
   "source": [
    "import telegram"
   ]
  },
  {
   "cell_type": "code",
   "execution_count": 5,
   "id": "cb57ffe0",
   "metadata": {},
   "outputs": [],
   "source": [
    "token = '2129391995:AAHglk257KkLF1LPgUhGr-Z1Hjm_-YU92FY'\n",
    "bot = telegram.Bot(token=token)"
   ]
  },
  {
   "cell_type": "code",
   "execution_count": 1,
   "id": "d9bb06cc",
   "metadata": {},
   "outputs": [
    {
     "name": "stdout",
     "output_type": "stream",
     "text": [
      "Requirement already satisfied: python-telegram-bot in c:\\programdata\\anaconda3\\lib\\site-packages (13.8.1)\n",
      "Requirement already satisfied: pytz>=2018.6 in c:\\programdata\\anaconda3\\lib\\site-packages (from python-telegram-bot) (2021.1)\n",
      "Requirement already satisfied: APScheduler==3.6.3 in c:\\programdata\\anaconda3\\lib\\site-packages (from python-telegram-bot) (3.6.3)\n",
      "Requirement already satisfied: certifi in c:\\programdata\\anaconda3\\lib\\site-packages (from python-telegram-bot) (2020.12.5)\n",
      "Requirement already satisfied: tornado>=6.1 in c:\\programdata\\anaconda3\\lib\\site-packages (from python-telegram-bot) (6.1)\n",
      "Requirement already satisfied: cachetools==4.2.2 in c:\\programdata\\anaconda3\\lib\\site-packages (from python-telegram-bot) (4.2.2)\n",
      "Requirement already satisfied: tzlocal>=1.2 in c:\\programdata\\anaconda3\\lib\\site-packages (from APScheduler==3.6.3->python-telegram-bot) (4.1)\n",
      "Requirement already satisfied: setuptools>=0.7 in c:\\programdata\\anaconda3\\lib\\site-packages (from APScheduler==3.6.3->python-telegram-bot) (52.0.0.post20210125)\n",
      "Requirement already satisfied: six>=1.4.0 in c:\\programdata\\anaconda3\\lib\\site-packages (from APScheduler==3.6.3->python-telegram-bot) (1.15.0)\n",
      "Requirement already satisfied: tzdata in c:\\programdata\\anaconda3\\lib\\site-packages (from tzlocal>=1.2->APScheduler==3.6.3->python-telegram-bot) (2021.5)\n",
      "Requirement already satisfied: backports.zoneinfo in c:\\programdata\\anaconda3\\lib\\site-packages (from tzlocal>=1.2->APScheduler==3.6.3->python-telegram-bot) (0.2.1)\n",
      "Requirement already satisfied: pytz-deprecation-shim in c:\\programdata\\anaconda3\\lib\\site-packages (from tzlocal>=1.2->APScheduler==3.6.3->python-telegram-bot) (0.1.0.post0)\n",
      "Note: you may need to restart the kernel to use updated packages.\n"
     ]
    }
   ],
   "source": [
    "pip install python-telegram-bot"
   ]
  },
  {
   "cell_type": "markdown",
   "id": "b676a921",
   "metadata": {},
   "source": [
    "### 미세먼지 : 죽음의 먼지, 잿빛 재앙, 은밀한 살인자\n",
    "### 세계보건기구에 따르면, 2014년 기준, 전 세계에서\n",
    "### 약 700만명이 미세먼지로 인해 조기 사망\n",
    "\n",
    "### 1930년 벨기에의 뮤즈 벨리, 1948년 미국 펜실베니아 주의 도노라,\n",
    "### 1952년 런던 스모그 등 대규모 재난을 겪으며\n",
    "### 대기오염이 건강에 막대한 피해를 끼칠수 있다는 사실을 인지함\n",
    "\n",
    "### 먼지는 대기 중 떠다니거나 흩날려 내려오는 입자성 물질을 의미\n",
    "### 대기오염 물질에는 가스상 물질과 입자성 물질이 존재"
   ]
  },
  {
   "cell_type": "markdown",
   "id": "5f05711d",
   "metadata": {},
   "source": [
    "### 미세먼지, 초미세먼지는 입자상 물질을 크기별로 세분화한 것\n",
    "### 1990년대에는 입자의 지름이 50마이크로미터 이하를 총먼지로 분류\n",
    "### 2000년대에는 입자의 지름이 10마이크로미터 이하를 PM10으로 분류\n",
    "### 2010년대에는 입자의 지름이 2.5마이크로미터 이하를 PM2.5로 분류\n",
    "### => 우리나라는 통상적으로 PM10을 미세먼지로\n",
    "### PM2.5를 초미세먼지로 번역해 옴"
   ]
  },
  {
   "cell_type": "markdown",
   "id": "f60341bc",
   "metadata": {},
   "source": [
    "### 한국환경공단이 제공하는 '대기오염정보 조회 서비스'를 통해\n",
    "### XML/JSON 형태로 받아온 데이터를 분석\n",
    "### 참고로 서울에는 총 25개의 구가 있음"
   ]
  },
  {
   "cell_type": "markdown",
   "id": "319ea47c",
   "metadata": {},
   "source": [
    "### xml로 받아온 미세먼지 정보"
   ]
  },
  {
   "cell_type": "code",
   "execution_count": 36,
   "id": "c1c6af58",
   "metadata": {},
   "outputs": [],
   "source": [
    "url1 = 'http://apis.data.go.kr/B552584/ArpltnInforInqireSvc/getCtprvnRltmMesureDnsty?serviceKey=W%2BZyyMifkqy1HHZzuXn5OX7IAZf%2Foj65VwU%2B%2FcVCslnjhS8acoUEKl7qWUEePB6%2F9Ak5ZRYW9W%2Bsq6hlD0moeQ%3D%3D&returnType=xml&numOfRows=100&pageNo=1&sidoName=%EC%84%9C%EC%9A%B8&ver=1.0'"
   ]
  },
  {
   "cell_type": "markdown",
   "id": "37523265",
   "metadata": {},
   "source": [
    "### json으로 받아온 미세먼지 정보"
   ]
  },
  {
   "cell_type": "code",
   "execution_count": 37,
   "id": "63eb7c74",
   "metadata": {},
   "outputs": [],
   "source": [
    "url2 = 'http://apis.data.go.kr/B552584/ArpltnInforInqireSvc/getCtprvnRltmMesureDnsty?serviceKey=W%2BZyyMifkqy1HHZzuXn5OX7IAZf%2Foj65VwU%2B%2FcVCslnjhS8acoUEKl7qWUEePB6%2F9Ak5ZRYW9W%2Bsq6hlD0moeQ%3D%3D&returnType=json&numOfRows=100&pageNo=1&sidoName=%EC%84%9C%EC%9A%B8&ver=1.0'"
   ]
  },
  {
   "cell_type": "code",
   "execution_count": 8,
   "id": "3559ce40",
   "metadata": {},
   "outputs": [],
   "source": [
    "import xml.etree.ElementTree as et"
   ]
  },
  {
   "cell_type": "code",
   "execution_count": 9,
   "id": "2e143b70",
   "metadata": {},
   "outputs": [],
   "source": [
    "import requests as req"
   ]
  },
  {
   "cell_type": "markdown",
   "id": "73db3f47",
   "metadata": {},
   "source": [
    "### XML 파일 처리하기"
   ]
  },
  {
   "cell_type": "markdown",
   "id": "aea608fe",
   "metadata": {},
   "source": [
    "### 지정한 ulr로 요청해서 결과 받음"
   ]
  },
  {
   "cell_type": "code",
   "execution_count": 38,
   "id": "cdfe9c4a",
   "metadata": {},
   "outputs": [],
   "source": [
    "res = req.get(url1)"
   ]
  },
  {
   "cell_type": "code",
   "execution_count": 39,
   "id": "3460e642",
   "metadata": {},
   "outputs": [
    {
     "data": {
      "text/plain": [
       "'<?xml version=\"1.0\" encoding=\"UTF-8\"?>\\r\\n<response>\\n  <header>\\n    <resultCode>00</resultCode>\\n    <resultMsg>NORMAL_CODE</resultMsg>\\n  </header>\\n  <body>\\n    <items>\\n      <item>\\n        <so2Grade>1</so2Grade>\\n        <coFlag/>\\n        <khaiValue>48</khaiValue>\\n        <so2Value>0.004</so2Value>\\n        <coValue>0.4</coValue>\\n        <pm25Flag/>\\n        <pm10Flag/>\\n        <o3Grade>1</o3Grade>\\n        <pm10Value>36</pm10Value>\\n        <khaiGrade>1</khaiGrade>\\n        <pm25Value>11</pm25Value>\\n  '"
      ]
     },
     "execution_count": 39,
     "metadata": {},
     "output_type": "execute_result"
    }
   ],
   "source": [
    "res.text[:500]"
   ]
  },
  {
   "cell_type": "code",
   "execution_count": 40,
   "id": "75e69a32",
   "metadata": {},
   "outputs": [],
   "source": [
    "with open ('data/air.xml', 'w', encoding='UTF-8') as f:\n",
    "    f.writelines(res.text)"
   ]
  },
  {
   "cell_type": "markdown",
   "id": "bb8acba5",
   "metadata": {},
   "source": [
    "### xml 파일을 읽어 XML을 분석하고 DOM 트리를 구축함"
   ]
  },
  {
   "cell_type": "code",
   "execution_count": 41,
   "id": "5699b729",
   "metadata": {},
   "outputs": [],
   "source": [
    "tree = et.parse('data/air.xml')\n",
    "root = tree.getroot()"
   ]
  },
  {
   "cell_type": "markdown",
   "id": "e9fe77be",
   "metadata": {},
   "source": [
    "### 측정일, 측정지역, 미세먼지, 초미세먼지 값 출력"
   ]
  },
  {
   "cell_type": "code",
   "execution_count": 19,
   "id": "70a1bdd7",
   "metadata": {},
   "outputs": [
    {
     "name": "stdout",
     "output_type": "stream",
     "text": [
      "2021-11-23 10:00 중구 33 7\n",
      "2021-11-23 10:00 한강대로 47 9\n",
      "2021-11-23 10:00 종로구 34 7\n",
      "2021-11-23 10:00 청계천로 29 7\n",
      "2021-11-23 10:00 종로 41 6\n",
      "2021-11-23 10:00 용산구 41 10\n",
      "2021-11-23 10:00 광진구 30 5\n",
      "2021-11-23 10:00 성동구 38 5\n",
      "2021-11-23 10:00 강변북로 40 7\n",
      "2021-11-23 10:00 중랑구 30 3\n",
      "2021-11-23 10:00 동대문구 34 8\n",
      "2021-11-23 10:00 홍릉로 40 7\n",
      "2021-11-23 10:00 성북구 38 6\n",
      "2021-11-23 10:00 정릉로 34 8\n",
      "2021-11-23 10:00 도봉구 40 6\n",
      "2021-11-23 10:00 은평구 42 8\n",
      "2021-11-23 10:00 서대문구 44 8\n",
      "2021-11-23 10:00 마포구 36 12\n",
      "2021-11-23 10:00 신촌로 36 9\n",
      "2021-11-23 10:00 강서구 36 5\n",
      "2021-11-23 10:00 공항대로 37 13\n",
      "2021-11-23 10:00 구로구 35 3\n",
      "2021-11-23 10:00 영등포구 34 6\n",
      "2021-11-23 10:00 영등포로 32 8\n",
      "2021-11-23 10:00 동작구 34 5\n",
      "2021-11-23 10:00 동작대로 중앙차로 35 12\n",
      "2021-11-23 10:00 관악구 30 5\n",
      "2021-11-23 10:00 강남구 30 5\n",
      "2021-11-23 10:00 서초구 34 9\n",
      "2021-11-23 10:00 도산대로 40 3\n",
      "2021-11-23 10:00 강남대로 43 6\n",
      "2021-11-23 10:00 송파구 37 5\n",
      "2021-11-23 10:00 강동구 34 5\n",
      "2021-11-23 10:00 천호대로 39 7\n",
      "2021-11-23 10:00 금천구 30 6\n",
      "2021-11-23 10:00 시흥대로 34 9\n",
      "2021-11-23 10:00 강북구 42 8\n",
      "2021-11-23 10:00 양천구 33 8\n",
      "2021-11-23 10:00 노원구 35 7\n",
      "2021-11-23 10:00 화랑로 29 7\n"
     ]
    }
   ],
   "source": [
    "for data in root.findall('body/items/item'):\n",
    "    date = data.find('dataTime').text\n",
    "    stName = data.find('stationName').text\n",
    "    pm10 = data.find('pm10Value').text\n",
    "    pm25 = data.find('pm25').text\n",
    "    print(date, stName, pm10, pm25)"
   ]
  },
  {
   "cell_type": "code",
   "execution_count": 20,
   "id": "ab08fbaf",
   "metadata": {},
   "outputs": [],
   "source": [
    "gu = '구로구'"
   ]
  },
  {
   "cell_type": "code",
   "execution_count": 32,
   "id": "7233cc2c",
   "metadata": {},
   "outputs": [
    {
     "name": "stdout",
     "output_type": "stream",
     "text": [
      "2021-11-23 10:00 35 3\n"
     ]
    }
   ],
   "source": [
    "for data in root.findall('body/items/item'):\n",
    "    if (data.find('stationName').text == gu):\n",
    "        date = data.find('dataTime').text\n",
    "        pm10 = data.find('pm10Value').text\n",
    "        pm25 = data.find('pm25Value').text\n",
    "        print(date, pm10, pm25)"
   ]
  },
  {
   "cell_type": "code",
   "execution_count": null,
   "id": "d44f3028",
   "metadata": {},
   "outputs": [],
   "source": [
    "대기정보 수치에 따른 품질 평가\n",
    "좋음 보통 나쁨 최악"
   ]
  },
  {
   "cell_type": "code",
   "execution_count": 42,
   "id": "204f7d50",
   "metadata": {},
   "outputs": [],
   "source": [
    "def rate_pm10(val):\n",
    "    rate = '최악'\n",
    "    if val <= 30 : rate = '좋음'\n",
    "    elif val <= 80 : rate = '보통'\n",
    "    elif val <= 150 : rate = '나쁨'\n",
    "    return rate"
   ]
  },
  {
   "cell_type": "code",
   "execution_count": 43,
   "id": "bcc7cb01",
   "metadata": {},
   "outputs": [],
   "source": [
    "def rate_pm25(val):\n",
    "    rate = '최악'\n",
    "    if val <= 15 : rate = '좋음'\n",
    "    elif val <= 35 : rate = '보통'\n",
    "    elif val <= 75 : rate = '나쁨'\n",
    "    return rate"
   ]
  },
  {
   "cell_type": "markdown",
   "id": "e97d020f",
   "metadata": {},
   "source": [
    "### 특정지역의 미세먼지 정보 및 이모지 출력"
   ]
  },
  {
   "cell_type": "code",
   "execution_count": 46,
   "id": "d5d4d678",
   "metadata": {},
   "outputs": [
    {
     "name": "stdout",
     "output_type": "stream",
     "text": [
      "2021-11-23 11:00 구로구 40 4 보통 좋음\n"
     ]
    }
   ],
   "source": [
    "for data in root.findall('body/items/item'):\n",
    "    if (data.find('stationName').text == gu):\n",
    "        date = data.find('dataTime').text\n",
    "        stname = data.find('stationName').text\n",
    "        pm10 = data.find('pm10Value').text\n",
    "        pm25 = data.find('pm25Value').text\n",
    "        p10 = rate_pm10(int(pm10))\n",
    "        p25 = rate_pm10(int(pm25))\n",
    "        print(date, stname, pm10, pm25, p10, p25)"
   ]
  },
  {
   "cell_type": "markdown",
   "id": "cd219cf9",
   "metadata": {},
   "source": [
    "### json 파일 처리"
   ]
  },
  {
   "cell_type": "code",
   "execution_count": 51,
   "id": "27001ed6",
   "metadata": {},
   "outputs": [],
   "source": [
    "import json"
   ]
  },
  {
   "cell_type": "code",
   "execution_count": 47,
   "id": "efb25580",
   "metadata": {},
   "outputs": [],
   "source": [
    "res = req.get(url2)"
   ]
  },
  {
   "cell_type": "code",
   "execution_count": 57,
   "id": "736bba22",
   "metadata": {},
   "outputs": [
    {
     "data": {
      "text/plain": [
       "'{\"response\":{\"body\":{\"totalCount\":40,\"items\":[{\"so2Grade\":\"1\",\"coFlag\":null,\"khaiValue\":\"47\",\"so2Value\":\"0.003\",\"coValue\":\"0.3\",\"pm25Flag\":null,\"pm10Flag\":null,\"o3Grade\":\"1\",\"pm10Value\":\"32\",\"khaiGrade\":\"1\",\"pm25Value\":\"5\",\"sidoName\":\"서울\",\"no2Flag\":null,\"no2Grade\":\"1\",\"o3Flag\":null,\"pm25Grade\":\"1\",\"so2Flag\":null,\"dataTime\":\"2021-11-23 11:00\",\"coGrade\":\"1\",\"no2Value\":\"0.020\",\"stationName\":\"강남구\",\"pm10Grade\":\"1\",\"o3Value\":\"0.020\"},{\"so2Grade\":\"1\",\"coFlag\":null,\"khaiValue\":\"54\",\"so2Value\":\"0.002\",\"c'"
      ]
     },
     "execution_count": 57,
     "metadata": {},
     "output_type": "execute_result"
    }
   ],
   "source": [
    "res.text[:500]"
   ]
  },
  {
   "cell_type": "code",
   "execution_count": 50,
   "id": "badc13f8",
   "metadata": {},
   "outputs": [],
   "source": [
    "with open ('data/air.json', 'w', encoding='UTF-8') as f:\n",
    "    f.writelines(res.text)"
   ]
  },
  {
   "cell_type": "markdown",
   "id": "388f39b8",
   "metadata": {},
   "source": [
    "json 파일을 읽어 분석하고 객체로 저장"
   ]
  },
  {
   "cell_type": "code",
   "execution_count": 52,
   "id": "67d60f78",
   "metadata": {},
   "outputs": [],
   "source": [
    "with open ('data/air.json', encoding='UTF-8') as f:\n",
    "    airdata = json.load(f)"
   ]
  },
  {
   "cell_type": "code",
   "execution_count": null,
   "id": "64c9d297",
   "metadata": {},
   "outputs": [],
   "source": []
  },
  {
   "cell_type": "code",
   "execution_count": 60,
   "id": "ea528504",
   "metadata": {},
   "outputs": [
    {
     "name": "stdout",
     "output_type": "stream",
     "text": [
      "2021-11-23 11:00 강남구 32 보통 5 좋음\n",
      "2021-11-23 11:00 서초구 36 보통 9 좋음\n",
      "2021-11-23 11:00 도산대로 34 보통 3 좋음\n",
      "2021-11-23 11:00 강남대로 38 보통 10 좋음\n",
      "2021-11-23 11:00 송파구 38 보통 11 좋음\n",
      "2021-11-23 11:00 강동구 36 보통 6 좋음\n",
      "2021-11-23 11:00 천호대로 43 보통 8 좋음\n",
      "2021-11-23 11:00 금천구 39 보통 10 좋음\n",
      "2021-11-23 11:00 시흥대로 33 보통 21 좋음\n",
      "2021-11-23 11:00 강북구 45 보통 8 좋음\n",
      "2021-11-23 11:00 양천구 36 보통 10 좋음\n",
      "2021-11-23 11:00 노원구 39 보통 6 좋음\n",
      "2021-11-23 11:00 화랑로 31 보통 10 좋음\n",
      "2021-11-23 11:00 중구 36 보통 11 좋음\n",
      "2021-11-23 11:00 한강대로 43 보통 10 좋음\n",
      "2021-11-23 11:00 종로구 41 보통 14 좋음\n",
      "2021-11-23 11:00 청계천로 33 보통 10 좋음\n",
      "2021-11-23 11:00 종로 46 보통 11 좋음\n",
      "2021-11-23 11:00 용산구 40 보통 11 좋음\n",
      "2021-11-23 11:00 광진구 36 보통 5 좋음\n",
      "2021-11-23 11:00 성동구 42 보통 6 좋음\n",
      "2021-11-23 11:00 강변북로 41 보통 10 좋음\n",
      "2021-11-23 11:00 중랑구 37 보통 8 좋음\n",
      "2021-11-23 11:00 동대문구 38 보통 12 좋음\n",
      "2021-11-23 11:00 홍릉로 41 보통 10 좋음\n",
      "2021-11-23 11:00 성북구 43 보통 8 좋음\n",
      "2021-11-23 11:00 정릉로 39 보통 9 좋음\n",
      "2021-11-23 11:00 도봉구 37 보통 10 좋음\n",
      "2021-11-23 11:00 은평구 47 보통 6 좋음\n",
      "2021-11-23 11:00 서대문구 45 보통 11 좋음\n",
      "2021-11-23 11:00 마포구 38 보통 15 좋음\n",
      "2021-11-23 11:00 신촌로 36 보통 11 좋음\n",
      "2021-11-23 11:00 강서구 44 보통 5 좋음\n",
      "2021-11-23 11:00 공항대로 44 보통 14 좋음\n",
      "2021-11-23 11:00 구로구 40 보통 4 좋음\n",
      "2021-11-23 11:00 영등포구 35 보통 9 좋음\n",
      "2021-11-23 11:00 영등포로 33 보통 8 좋음\n",
      "2021-11-23 11:00 동작구 38 보통 10 좋음\n",
      "2021-11-23 11:00 동작대로 중앙차로 39 보통 18 좋음\n",
      "2021-11-23 11:00 관악구 32 보통 8 좋음\n"
     ]
    }
   ],
   "source": [
    "for item in airdata['response']['body']['items']:\n",
    "    date = item['dataTime']\n",
    "    stname = item['stationName']\n",
    "    pm10 = item['pm10Value']\n",
    "    pm25 = item['pm25Value']\n",
    "    p10 = rate_pm10(int(pm10))\n",
    "    p25 = rate_pm10(int(pm25))\n",
    "    print(date, stname, pm10, p10, pm25, p25)"
   ]
  },
  {
   "cell_type": "code",
   "execution_count": 63,
   "id": "604afe14",
   "metadata": {},
   "outputs": [
    {
     "name": "stdout",
     "output_type": "stream",
     "text": [
      "2021-11-23 11:00 구로구 40 보통 4 좋음\n"
     ]
    }
   ],
   "source": [
    "for item in airdata['response']['body']['items']:\n",
    "    if (item['stationName'] == gu):\n",
    "        date = item['dataTime']\n",
    "        stname = item['stationName']\n",
    "        pm10 = item['pm10Value']\n",
    "        pm25 = item['pm25Value']\n",
    "        p10 = rate_pm10(int(pm10))\n",
    "        p25 = rate_pm10(int(pm25))\n",
    "        print(date, stname, pm10, p10, pm25, p25)"
   ]
  },
  {
   "cell_type": "markdown",
   "id": "7115fd3a",
   "metadata": {},
   "source": [
    "### 텔레그램으로 미세먼지 정보 서비스하기"
   ]
  },
  {
   "cell_type": "code",
   "execution_count": 82,
   "id": "a5c8cae4",
   "metadata": {},
   "outputs": [],
   "source": [
    "def reload_air(): # data.go.kr에서 대기정보 받아오기\n",
    "    res = req.get(url2)\n",
    "    with open('data/air.json', 'w', encoding='UTF-8') as f:\n",
    "        f.writelines(res.text)"
   ]
  },
  {
   "cell_type": "code",
   "execution_count": 83,
   "id": "ff912b77",
   "metadata": {},
   "outputs": [],
   "source": [
    "def fetch_air(gu): # 특정지역의 미세먼지 정보/이모지 받아오기\n",
    "    with open ('data/air.json', encoding='UTF-8') as f:\n",
    "        airdata = json.load(f)\n",
    "\n",
    "    airinfo = ''\n",
    "    for item in airdata['response']['body']['items']:\n",
    "        if (item['stationName'] == gu):\n",
    "            date = item['dataTime']\n",
    "            pm10 = item['pm10Value']\n",
    "            pm25 = item['pm25Value']\n",
    "            p10 = rate_pm10(int(pm10))\n",
    "            p25 = rate_pm10(int(pm25))\n",
    "            airinfo = f'{date} {pm10} {p10} {pm25} {p25}'\n",
    "    return airinfo"
   ]
  },
  {
   "cell_type": "code",
   "execution_count": 74,
   "id": "10df495e",
   "metadata": {},
   "outputs": [],
   "source": [
    "from telegram.ext import Updater\n",
    "from telegram.ext import MessageHandler\n",
    "from telegram.ext import Filters\n",
    "from telegram.ext import CommandHandler\n",
    "from telegram.ext import CallbackContext\n"
   ]
  },
  {
   "cell_type": "markdown",
   "id": "b79fa86d",
   "metadata": {},
   "source": [
    "### 대기정보 출력"
   ]
  },
  {
   "cell_type": "code",
   "execution_count": 91,
   "id": "ca209ba7",
   "metadata": {},
   "outputs": [],
   "source": [
    "def air_message(update, context):\n",
    "    airinfo = fetch_air(update.message.text)\n",
    "    context.bot.send_message(update.effective_chat.id, airinfo)"
   ]
  },
  {
   "cell_type": "markdown",
   "id": "cc1243a9",
   "metadata": {},
   "source": [
    "### 대기정보 갱신"
   ]
  },
  {
   "cell_type": "code",
   "execution_count": 92,
   "id": "8868a53d",
   "metadata": {},
   "outputs": [],
   "source": [
    "def reload_message(update, context):\n",
    "    reload_air()\n",
    "    context.bot.send_message(update.effective_chat.id, '대기정보 갱신됨')"
   ]
  },
  {
   "cell_type": "markdown",
   "id": "0b1888f4",
   "metadata": {},
   "source": [
    "### 텔레그램 서버 초기화"
   ]
  },
  {
   "cell_type": "code",
   "execution_count": 93,
   "id": "45f7ea95",
   "metadata": {},
   "outputs": [],
   "source": [
    "updater = Updater(token)"
   ]
  },
  {
   "cell_type": "markdown",
   "id": "67c5a65d",
   "metadata": {},
   "source": [
    "### 핸들러 생성"
   ]
  },
  {
   "cell_type": "code",
   "execution_count": 94,
   "id": "a0f15f8c",
   "metadata": {},
   "outputs": [],
   "source": [
    "air_handler = MessageHandler(Filters.text, air_message)\n",
    "reload_handler = CommandHandler('reload', reload_message)"
   ]
  },
  {
   "cell_type": "markdown",
   "id": "6ee99b63",
   "metadata": {},
   "source": [
    "### 핸들러 등록"
   ]
  },
  {
   "cell_type": "code",
   "execution_count": 95,
   "id": "0549a421",
   "metadata": {},
   "outputs": [],
   "source": [
    "updater.dispatcher.add_handler(reload_handler)\n",
    "updater.dispatcher.add_handler(air_handler)"
   ]
  },
  {
   "cell_type": "markdown",
   "id": "57986ba6",
   "metadata": {},
   "source": [
    "### 텔레그램 챗봇 서버 시작"
   ]
  },
  {
   "cell_type": "code",
   "execution_count": 96,
   "id": "2d3ffafd",
   "metadata": {},
   "outputs": [
    {
     "name": "stdout",
     "output_type": "stream",
     "text": [
      "텔레그램 대기정보 RPA 서버 실행중...\n"
     ]
    },
    {
     "name": "stderr",
     "output_type": "stream",
     "text": [
      "<ipython-input-96-e396822e6f1d>:2: TelegramDeprecationWarning: The argument `clean` of `start_polling` is deprecated. Please use `drop_pending_updates` instead.\n",
      "  updater.start_polling(timeout=3, clean=True)\n"
     ]
    }
   ],
   "source": [
    "print('텔레그램 대기정보 RPA 서버 실행중...')\n",
    "updater.start_polling(timeout=3, clean=True)\n",
    "updater.idle()"
   ]
  },
  {
   "cell_type": "markdown",
   "id": "13d53d3c",
   "metadata": {},
   "source": [
    "### 텔레그램 구동 -> /reload -> 구이름 입력"
   ]
  },
  {
   "cell_type": "code",
   "execution_count": null,
   "id": "9e47aec4",
   "metadata": {},
   "outputs": [],
   "source": []
  },
  {
   "cell_type": "code",
   "execution_count": null,
   "id": "c71877b0",
   "metadata": {},
   "outputs": [],
   "source": []
  },
  {
   "cell_type": "code",
   "execution_count": null,
   "id": "205e7818",
   "metadata": {},
   "outputs": [],
   "source": []
  },
  {
   "cell_type": "code",
   "execution_count": null,
   "id": "6dc270da",
   "metadata": {},
   "outputs": [],
   "source": []
  },
  {
   "cell_type": "code",
   "execution_count": null,
   "id": "49ba4dee",
   "metadata": {},
   "outputs": [],
   "source": []
  },
  {
   "cell_type": "code",
   "execution_count": null,
   "id": "c3ec4683",
   "metadata": {},
   "outputs": [],
   "source": []
  },
  {
   "cell_type": "code",
   "execution_count": null,
   "id": "88ed8743",
   "metadata": {},
   "outputs": [],
   "source": []
  },
  {
   "cell_type": "code",
   "execution_count": null,
   "id": "d03c1eea",
   "metadata": {},
   "outputs": [],
   "source": []
  }
 ],
 "metadata": {
  "kernelspec": {
   "display_name": "Python 3 (ipykernel)",
   "language": "python",
   "name": "python3"
  },
  "language_info": {
   "codemirror_mode": {
    "name": "ipython",
    "version": 3
   },
   "file_extension": ".py",
   "mimetype": "text/x-python",
   "name": "python",
   "nbconvert_exporter": "python",
   "pygments_lexer": "ipython3",
   "version": "3.7.10"
  }
 },
 "nbformat": 4,
 "nbformat_minor": 5
}
